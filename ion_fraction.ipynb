{
 "cells": [
  {
   "cell_type": "code",
   "execution_count": 1,
   "metadata": {},
   "outputs": [],
   "source": [
    "import numpy as np\n",
    "import math, sys, pyatomdb\n",
    "import matplotlib.pyplot as plt\n",
    "import seaborn as sns\n",
    "import pandas as pd\n",
    "from ipywidgets import interact\n",
    "import ipywidgets as widgets\n",
    "from mendeleev import element"
   ]
  },
  {
   "cell_type": "code",
   "execution_count": 2,
   "metadata": {},
   "outputs": [],
   "source": [
    "x = widgets.FloatLogSlider(\n",
    "    value=1.0,\n",
    "    base=10,\n",
    "    min=-3, # max exponent of base\n",
    "    max=2, # min exponent of base\n",
    "    step=0.5, # exponent step\n",
    "    description='kTe'\n",
    ")"
   ]
  },
  {
   "cell_type": "code",
   "execution_count": 3,
   "metadata": {},
   "outputs": [],
   "source": [
    "def RetunIonPopArray(kTe, element_name):\n",
    "    Z = element(element_name).atomic_number\n",
    "    net_num = 40\n",
    "    net_array = np.logspace(9.0, 13.0, num=net_num, base=10.0)\n",
    "    column_array = [element_name + '+' + str(i) for i in range(Z+1)]\n",
    "    ionpop_array = pd.DataFrame(np.empty((net_num,Z+1)), columns=column_array, index=net_array)\n",
    "    #ionpop_array.columns.name = 'Ion'\n",
    "    ionpop_array.index.name = r'$n_{e}t$ (cm$^{-3}$ s)'\n",
    "    for i in range(net_num):\n",
    "        ionpop_array.iloc[i] = pyatomdb.apec.return_ionbal(\n",
    "            Z = Z,\n",
    "            Te = kTe,\n",
    "            tau=net_array[i],\n",
    "            init_pop='ionizing',\n",
    "            teunit='keV'\n",
    "            )\n",
    "    return ionpop_array"
   ]
  },
  {
   "cell_type": "code",
   "execution_count": 4,
   "metadata": {},
   "outputs": [],
   "source": [
    "def PlotIonFraction(element_name, kTe):\n",
    "    ionpop = RetunIonPopArray(kTe, element_name)\n",
    "    plt.figure(figsize=(12, 8))\n",
    "    sns.set(font_scale = 2)\n",
    "    graph = sns.lineplot(data=ionpop, lw=3)\n",
    "    graph.set_xscale('log')\n",
    "    graph.set_yscale('log')\n",
    "    graph.set_ylabel('Ion Fraction')\n",
    "    graph.set(ylim=(0.01,1.0))\n",
    "    graph.legend(bbox_to_anchor=(1.01, 1), loc='upper left', borderaxespad=0, fontsize=14)"
   ]
  },
  {
   "cell_type": "code",
   "execution_count": 5,
   "metadata": {},
   "outputs": [
    {
     "data": {
      "application/vnd.jupyter.widget-view+json": {
       "model_id": "0e237ad5c2e04502ad7ea64cdc06cb2f",
       "version_major": 2,
       "version_minor": 0
      },
      "text/plain": [
       "interactive(children=(Dropdown(description='Element:', index=7, options=('H', 'He', 'Li', 'Be', 'B', 'C', 'N',…"
      ]
     },
     "metadata": {},
     "output_type": "display_data"
    },
    {
     "data": {
      "text/plain": [
       "<function __main__.PlotIonFraction(element_name, kTe)>"
      ]
     },
     "execution_count": 5,
     "metadata": {},
     "output_type": "execute_result"
    }
   ],
   "source": [
    "element_list = [element(i+1).symbol for i in range(30)]\n",
    "element_dropdown = widgets.Dropdown(\n",
    "    options=element_list,\n",
    "    value = 'O',\n",
    "    description='Element:',\n",
    ")\n",
    "kTe_textbox = widgets.FloatText(\n",
    "    value = 5.0,\n",
    "    description='kTe (keV): '\n",
    ")\n",
    "interact(PlotIonFraction, element_name=element_dropdown, kTe=kTe_textbox)"
   ]
  }
 ],
 "metadata": {
  "interpreter": {
   "hash": "022c35cc0b4c59a054a0e9c033f59fc56dc9800956823449b7c20994a07826c0"
  },
  "kernelspec": {
   "display_name": "Python 3.7.10 64-bit ('base': conda)",
   "language": "python",
   "name": "python3"
  },
  "language_info": {
   "codemirror_mode": {
    "name": "ipython",
    "version": 3
   },
   "file_extension": ".py",
   "mimetype": "text/x-python",
   "name": "python",
   "nbconvert_exporter": "python",
   "pygments_lexer": "ipython3",
   "version": "3.7.10"
  },
  "orig_nbformat": 4
 },
 "nbformat": 4,
 "nbformat_minor": 2
}
