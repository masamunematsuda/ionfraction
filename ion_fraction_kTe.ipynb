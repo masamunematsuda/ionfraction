{
 "cells": [
  {
   "cell_type": "code",
   "execution_count": 15,
   "metadata": {},
   "outputs": [],
   "source": [
    "import numpy as np\n",
    "import math, sys, pyatomdb\n",
    "import matplotlib.pyplot as plt\n",
    "import seaborn as sns\n",
    "import pandas as pd\n",
    "from ipywidgets import interact\n",
    "import ipywidgets as widgets\n",
    "from mendeleev import element"
   ]
  },
  {
   "cell_type": "code",
   "execution_count": 16,
   "metadata": {},
   "outputs": [],
   "source": [
    "def RetunIonPopArray(kTe, element_name):\n",
    "    Z = element(element_name).atomic_number\n",
    "    net_num = 40\n",
    "    net_array = np.logspace(9.0, 13.0, num=net_num, base=10.0)\n",
    "    column_array = [element_name + '+' + str(i) for i in range(Z+1)]\n",
    "    ionpop_array = pd.DataFrame(\n",
    "        np.array([pyatomdb.apec.return_ionbal(Z = Z, Te = kTe, tau=net, init_pop='ionizing', teunit='keV') for net in net_array]),\n",
    "        columns=column_array,\n",
    "        index=net_array\n",
    "    )\n",
    "    ionpop_array.columns.name = 'Ion'\n",
    "    ionpop_array.index.name = r'$n_{e}t$ (cm$^{-3}$ s)'\n",
    "    return ionpop_array"
   ]
  },
  {
   "cell_type": "code",
   "execution_count": 17,
   "metadata": {},
   "outputs": [],
   "source": [
    "def PlotIonFraction(element_name, kTe):\n",
    "    ionpop = RetunIonPopArray(kTe, element_name)\n",
    "    plt.figure(figsize=(12, 8))\n",
    "    sns.set(font_scale = 2)\n",
    "    graph = sns.lineplot(data=ionpop, lw=2)\n",
    "    graph.set_xscale('log')\n",
    "    graph.set_yscale('log')\n",
    "    graph.set_ylabel('Ion Fraction')\n",
    "    graph.set(ylim=(0.01,1.0))\n",
    "    graph.legend(bbox_to_anchor=(1.01, 1), loc='upper left', borderaxespad=0, fontsize=14)"
   ]
  },
  {
   "cell_type": "code",
   "execution_count": 18,
   "metadata": {},
   "outputs": [
    {
     "data": {
      "application/vnd.jupyter.widget-view+json": {
       "model_id": "c4e0de30a7134946885922d6e2adfc90",
       "version_major": 2,
       "version_minor": 0
      },
      "text/plain": [
       "interactive(children=(Dropdown(description='Element:', index=7, options=('H', 'He', 'Li', 'Be', 'B', 'C', 'N',…"
      ]
     },
     "metadata": {},
     "output_type": "display_data"
    },
    {
     "data": {
      "text/plain": [
       "<function __main__.PlotIonFraction(element_name, kTe)>"
      ]
     },
     "execution_count": 18,
     "metadata": {},
     "output_type": "execute_result"
    }
   ],
   "source": [
    "element_list = [element(i+1).symbol for i in range(30)]\n",
    "element_dropdown = widgets.Dropdown(\n",
    "    options=element_list,\n",
    "    value = 'O',\n",
    "    description='Element:',\n",
    ")\n",
    "kTe_textbox = widgets.FloatText(\n",
    "    value = 5.0,\n",
    "    description='kTe (keV): '\n",
    ")\n",
    "interact(PlotIonFraction, element_name=element_dropdown, kTe=kTe_textbox)"
   ]
  }
 ],
 "metadata": {
  "interpreter": {
   "hash": "cc874fc4645a41077e9eb34b72b24af92c3779d2e3d53d33f735ee922a70c730"
  },
  "kernelspec": {
   "display_name": "Python 3.7.10 ('astro')",
   "language": "python",
   "name": "python3"
  },
  "language_info": {
   "codemirror_mode": {
    "name": "ipython",
    "version": 3
   },
   "file_extension": ".py",
   "mimetype": "text/x-python",
   "name": "python",
   "nbconvert_exporter": "python",
   "pygments_lexer": "ipython3",
   "version": "3.7.10"
  },
  "orig_nbformat": 4
 },
 "nbformat": 4,
 "nbformat_minor": 2
}
